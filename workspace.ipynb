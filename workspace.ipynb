{
 "cells": [
  {
   "cell_type": "markdown",
   "id": "57111373",
   "metadata": {},
   "source": [
    "## Drone Detection"
   ]
  },
  {
   "cell_type": "code",
   "execution_count": 3,
   "id": "63f9ccac",
   "metadata": {},
   "outputs": [],
   "source": [
    "# essential imports\n",
    "import os\n",
    "import csv\n",
    "import cv2\n",
    "import numpy as np\n",
    "import matplotlib.pyplot as plt\n",
    "from IPython.display import display, clear_output\n",
    "\n",
    "# import YOLO model from ultralytics package\n",
    "from ultralytics import YOLO\n",
    "\n",
    "# custom utilities\n",
    "from utils import set_device"
   ]
  },
  {
   "cell_type": "code",
   "execution_count": 4,
   "id": "159cd3fa",
   "metadata": {},
   "outputs": [
    {
     "name": "stdout",
     "output_type": "stream",
     "text": [
      "Using device: mps:0\n"
     ]
    }
   ],
   "source": [
    "# set the device depending on available GPU\n",
    "device = set_device()"
   ]
  },
  {
   "cell_type": "code",
   "execution_count": null,
   "id": "cefd8269",
   "metadata": {},
   "outputs": [],
   "source": [
    "# load pretrained YOLOv8 model\n",
    "model = YOLO(\"yolov8m.pt\")  # n for nano, s for small, m for medium, l for large, x for extra large"
   ]
  },
  {
   "cell_type": "markdown",
   "id": "96e7a418",
   "metadata": {},
   "source": [
    "#### Try on drone video"
   ]
  },
  {
   "cell_type": "code",
   "execution_count": null,
   "id": "f0aee16b",
   "metadata": {},
   "outputs": [],
   "source": [
    "# source video path\n",
    "data_path = './data/drone-tracking-datasets/'\n",
    "video_path = os.path.join(data_path, 'dataset1/cam1.mp4')\n",
    "\n",
    "# get sample frame and store width and height\n",
    "cap = cv2.VideoCapture(video_path)\n",
    "ret, sample_frame = cap.read()\n",
    "cap.release()\n",
    "sample_frame_rgb = cv2.cvtColor(sample_frame, cv2.COLOR_BGR2RGB)\n",
    "frame_height, frame_width, _ = sample_frame.shape\n",
    "print(f\"Frame size: {frame_width} x {frame_height}\")\n",
    "\n",
    "# select tracker\n",
    "tracker = \"sort.yaml\"  # or 'bytetrack.yaml', 'strongsort.yaml'"
   ]
  },
  {
   "cell_type": "code",
   "execution_count": null,
   "id": "6b9cd3e0",
   "metadata": {},
   "outputs": [],
   "source": [
    "# run detection on video\n",
    "results = model.predict(\n",
    "    source=video_path, \n",
    "    device=device,   # set the device\n",
    "    tracker=tracker,\n",
    "    #show=True, # display live output\n",
    "    save=True,  # save output video to runs/detect/\n",
    "    stream=True  # return a generator that yields results for each frame, doesn't store whole video in memory\n",
    ")"
   ]
  },
  {
   "cell_type": "code",
   "execution_count": null,
   "id": "0d4200d2",
   "metadata": {},
   "outputs": [],
   "source": [
    "# test tracking\n",
    "\n",
    "# save trajectory to CSV\n",
    "csv_file = \"trajectory_1.csv\"\n",
    "\n",
    "trajectory = []  # list to store (frame_id, x_center, y_center)\n",
    "\n",
    "for frame_id, result in enumerate(results, start=1):\n",
    "    if len(result.boxes) > 0:\n",
    "        # Take first detection (assuming single drone)\n",
    "        box = result.boxes[0].xywh[0]  # [x_center, y_center, width, height] in pixels\n",
    "        x_center, y_center = box[0].item(), box[1].item()\n",
    "    else:\n",
    "        # If no detection, log NaN or skip\n",
    "        x_center, y_center = float('nan'), float('nan')\n",
    "\n",
    "    trajectory.append([frame_id, x_center, y_center])\n",
    "\n",
    "# save to CSV\n",
    "with open(csv_file, \"w\", newline=\"\") as f:\n",
    "    writer = csv.writer(f)\n",
    "    writer.writerow([\"frame_id\", \"x_center\", \"y_center\"])\n",
    "    writer.writerows(trajectory)\n",
    "\n",
    "print(f\"Trajectory saved to {csv_file}\")"
   ]
  },
  {
   "cell_type": "code",
   "execution_count": null,
   "id": "e5f65321",
   "metadata": {},
   "outputs": [],
   "source": [
    "# Extract x, y values in pixels, skipping NaNs\n",
    "x_vals = np.array([x for _, x, y in trajectory])\n",
    "y_vals = np.array([y for _, x, y in trajectory])\n",
    "\n",
    "# Threshold in pixels\n",
    "distance_threshold = 50\n",
    "\n",
    "# Prepare lists of segments\n",
    "segments_x = []\n",
    "segments_y = []\n",
    "\n",
    "current_seg_x = []\n",
    "current_seg_y = []\n",
    "\n",
    "for i in range(len(x_vals)):\n",
    "    x, y = x_vals[i], y_vals[i]\n",
    "    \n",
    "    if np.isnan(x) or np.isnan(y):\n",
    "        # Missing detection → start new segment\n",
    "        if current_seg_x:\n",
    "            segments_x.append(current_seg_x)\n",
    "            segments_y.append(current_seg_y)\n",
    "            current_seg_x, current_seg_y = [], []\n",
    "        continue\n",
    "    \n",
    "    if current_seg_x:\n",
    "        # Compute distance to previous point\n",
    "        dx = x - current_seg_x[-1]\n",
    "        dy = y - current_seg_y[-1]\n",
    "        dist = np.sqrt(dx**2 + dy**2)\n",
    "        if dist > distance_threshold:\n",
    "            # Jump too far → start new segment\n",
    "            segments_x.append(current_seg_x)\n",
    "            segments_y.append(current_seg_y)\n",
    "            current_seg_x, current_seg_y = [], []\n",
    "\n",
    "    # Add point to current segment\n",
    "    current_seg_x.append(x)\n",
    "    current_seg_y.append(y)\n",
    "\n",
    "# Add last segment\n",
    "if current_seg_x:\n",
    "    segments_x.append(current_seg_x)\n",
    "    segments_y.append(current_seg_y)\n",
    "\n",
    "# Plot\n",
    "plt.figure(figsize=(12, 8))\n",
    "plt.imshow(sample_frame_rgb)\n",
    "for seg_x, seg_y in zip(segments_x, segments_y):\n",
    "    plt.plot(seg_x, seg_y, marker='o', color='red', linewidth=2, markersize=1)\n",
    "\n",
    "#plt.title(\"Drone Trajectory Over Sample Frame (with breaks)\")\n",
    "plt.axis(\"off\")\n",
    "plt.show()\n"
   ]
  },
  {
   "cell_type": "code",
   "execution_count": null,
   "id": "e7393e7d",
   "metadata": {},
   "outputs": [],
   "source": [
    "# Prepare X and Y lists with NaNs for missing detections\n",
    "x_vals = np.array([x if not np.isnan(x) else np.nan for _, x, y in trajectory])\n",
    "y_vals = np.array([y if not np.isnan(y) else np.nan for _, x, y in trajectory])\n",
    "\n",
    "plt.figure(figsize=(12, 8))\n",
    "plt.imshow(sample_frame_rgb)\n",
    "\n",
    "# Plot segments separately to break lines at NaNs\n",
    "# Using np.ma (masked arrays) to ignore NaNs in line segments\n",
    "plt.plot(np.ma.masked_invalid(x_vals), np.ma.masked_invalid(y_vals),\n",
    "         marker='o', color='red', linewidth=2, markersize=2)\n",
    "\n",
    "plt.title(\"Drone Trajectory Over Sample Frame\")\n",
    "plt.axis(\"off\")\n",
    "plt.show()"
   ]
  },
  {
   "cell_type": "code",
   "execution_count": null,
   "id": "a15e8525",
   "metadata": {},
   "outputs": [],
   "source": [
    "# Filter out frames where drone was not detected\n",
    "x_vals = [x for _, x, y in trajectory if not (x != x)]  # ignore NaNs\n",
    "y_vals = [y for _, x, y in trajectory if not (y != y)]\n",
    "\n",
    "# plot trajectory over sample frame\n",
    "plt.figure(figsize=(12, 8))\n",
    "plt.imshow(sample_frame_rgb)\n",
    "plt.plot(x_vals, y_vals, marker='o', color='red', linewidth=2, markersize=4)\n",
    "plt.title(\"Drone Trajectory Over Sample Frame\")\n",
    "plt.axis(\"off\")\n",
    "plt.show()"
   ]
  },
  {
   "cell_type": "code",
   "execution_count": null,
   "id": "5570e940",
   "metadata": {},
   "outputs": [],
   "source": [
    "# Counters\n",
    "detected_count = 0\n",
    "missed_count = 0\n",
    "\n",
    "for result in results:\n",
    "    if len(result.boxes) > 0:  # any detections in this frame?\n",
    "        detected_count += 1\n",
    "    else:\n",
    "        missed_count += 1\n",
    "\n",
    "print(f\"Detected in {detected_count} frames\")\n",
    "print(f\"Missed in {missed_count} frames\")"
   ]
  },
  {
   "cell_type": "code",
   "execution_count": null,
   "id": "6c617e13",
   "metadata": {},
   "outputs": [],
   "source": [
    "# for the detections in camera 0 in the first dataset\n",
    "# there are 5334 frames total\n",
    "# of these there are 2416 frames that have no detections\n",
    "# so there are 2918 frames with detections\n",
    "# 55% detection rate\n",
    "\n",
    "# for the nano model\n",
    "# Detected in 1606 frames\n",
    "# Missed in 3728 frames\n",
    "# 30% detection rate\n",
    "\n",
    "# for the small model\n",
    "# Detected in 2357 frames\n",
    "# Missed in 2977 frames\n",
    "# 44% detection rate, much better!\n",
    "\n",
    "# for the medium model\n",
    "# Detected in 2704 frames\n",
    "# Missed in 2630 frames\n",
    "# 50.7% detection rate, even better!\n"
   ]
  },
  {
   "cell_type": "code",
   "execution_count": null,
   "id": "1617ebd1",
   "metadata": {},
   "outputs": [],
   "source": [
    "count_zero = 0\n",
    "total_frames = 0\n",
    "file_name = os.path.join(data_path, 'dataset1/detections/cam0.txt')  \n",
    "\n",
    "# Replace 'data.txt' with your file path\n",
    "with open(file_name, \"r\") as f:\n",
    "    for line in f:\n",
    "        total_frames += 1\n",
    "        # Skip empty lines\n",
    "        if not line.strip():\n",
    "            continue\n",
    "        \n",
    "        # Split line into columns\n",
    "        cols = line.strip().split()\n",
    "        \n",
    "        # Convert 2nd and 3rd columns to float\n",
    "        col2, col3 = float(cols[1]), float(cols[2])\n",
    "        \n",
    "        # Check if both are 0\n",
    "        if col2 == 0.0 and col3 == 0.0:\n",
    "            count_zero += 1\n",
    "\n",
    "print(f\"Number of rows where 2nd and 3rd columns are 0: {count_zero}\")\n",
    "print(f\"Total number of frames: {total_frames}\")"
   ]
  },
  {
   "cell_type": "code",
   "execution_count": null,
   "id": "f658f3c5",
   "metadata": {},
   "outputs": [],
   "source": [
    "# display results frame by frame inline, by iterating through the generator\n",
    "# otherwise can open in external window with show=True above\n",
    "\n",
    "for result in results:\n",
    "    annotated_frame = result.plot()\n",
    "    annotated_frame = cv2.cvtColor(annotated_frame, cv2.COLOR_BGR2RGB)\n",
    "\n",
    "    plt.imshow(annotated_frame)\n",
    "    plt.axis(\"off\")\n",
    "    clear_output(wait=True)  # clear previous cell output\n",
    "    display(plt.gcf())"
   ]
  },
  {
   "cell_type": "code",
   "execution_count": null,
   "id": "2ae7ee3b",
   "metadata": {},
   "outputs": [],
   "source": [
    "# Grab first frame only\n",
    "first_result = next(iter(results))\n",
    "\n",
    "# Plot with bounding boxes\n",
    "annotated_frame = first_result.plot()  # numpy array, BGR format\n",
    "annotated_frame = cv2.cvtColor(annotated_frame, cv2.COLOR_BGR2RGB)\n",
    "\n",
    "# Show with matplotlib\n",
    "plt.figure(figsize=(10, 6))\n",
    "plt.imshow(annotated_frame)\n",
    "plt.axis(\"off\")\n",
    "plt.title(\"First Frame with YOLO Detections\")\n",
    "plt.show()"
   ]
  },
  {
   "cell_type": "code",
   "execution_count": null,
   "id": "c16fd32f",
   "metadata": {},
   "outputs": [],
   "source": [
    "# put training code into YOLO format\n",
    "\n",
    "# <class_id> <x_center_norm> <y_center_norm> <width_norm> <height_norm>\n",
    "\n",
    "# need to decide bbox size or compute as we go from the results?"
   ]
  },
  {
   "cell_type": "code",
   "execution_count": null,
   "id": "5a99a10f",
   "metadata": {},
   "outputs": [],
   "source": [
    "# Parameters\n",
    "bbox_width = 20   # in pixels\n",
    "bbox_height = 20  # in pixels\n",
    "image_width = 1280  # replace with actual image width\n",
    "image_height = 720  # replace with actual image height\n",
    "class_id = 0\n",
    "\n",
    "input_folder = \"detections\"  # folder with txt files\n",
    "output_folder = \"labels\"     # YOLO format labels\n",
    "\n",
    "os.makedirs(output_folder, exist_ok=True)\n",
    "\n",
    "for file_name in os.listdir(input_folder):\n",
    "    if not file_name.endswith(\".txt\"):\n",
    "        continue\n",
    "\n",
    "    with open(os.path.join(input_folder, file_name), \"r\") as f_in, \\\n",
    "         open(os.path.join(output_folder, file_name), \"w\") as f_out:\n",
    "\n",
    "        for line in f_in:\n",
    "            frame_id, x, y = line.strip().split()\n",
    "            x = float(x)\n",
    "            y = float(y)\n",
    "\n",
    "            # Normalize\n",
    "            x_norm = x / image_width\n",
    "            y_norm = y / image_height\n",
    "            w_norm = bbox_width / image_width\n",
    "            h_norm = bbox_height / image_height\n",
    "\n",
    "            f_out.write(f\"{class_id} {x_norm:.6f} {y_norm:.6f} {w_norm:.6f} {h_norm:.6f}\\n\")\n"
   ]
  }
 ],
 "metadata": {
  "kernelspec": {
   "display_name": "drone-detect",
   "language": "python",
   "name": "python3"
  },
  "language_info": {
   "codemirror_mode": {
    "name": "ipython",
    "version": 3
   },
   "file_extension": ".py",
   "mimetype": "text/x-python",
   "name": "python",
   "nbconvert_exporter": "python",
   "pygments_lexer": "ipython3",
   "version": "3.12.8"
  }
 },
 "nbformat": 4,
 "nbformat_minor": 5
}
